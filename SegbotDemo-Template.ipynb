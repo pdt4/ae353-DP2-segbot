{
 "cells": [
  {
   "cell_type": "markdown",
   "id": "middle-acoustic",
   "metadata": {},
   "source": [
    "# Differential drive robot (i.e., \"segbot\") in artificial gravity"
   ]
  },
  {
   "cell_type": "markdown",
   "id": "working-minority",
   "metadata": {},
   "source": [
    "Import modules and configure the notebook."
   ]
  },
  {
   "cell_type": "code",
   "execution_count": 4,
   "id": "dimensional-contamination",
   "metadata": {},
   "outputs": [
    {
     "data": {
      "text/plain": [
       "<module 'ae353_segbot' from '/Users/patrickthornton/Desktop/DP1 - ae353/ae353-sp22/projects/02_segbot/ae353_segbot.py'>"
      ]
     },
     "execution_count": 4,
     "metadata": {},
     "output_type": "execute_result"
    }
   ],
   "source": [
    "# This module is part of the python standard library\n",
    "import time\n",
    "\n",
    "# These modules are part of other existing libraries\n",
    "import numpy as np\n",
    "import sympy as sym\n",
    "from scipy import linalg\n",
    "from scipy import signal\n",
    "import matplotlib.pyplot as plt\n",
    "\n",
    "# This is my own script (it is an interface to the pybullet simulator)\n",
    "import ae353_segbot\n",
    "\n",
    "# I often go back and forth between making changes to my scripts and to\n",
    "# the notebook in which they are used. One \"gotcha\" is that notebooks only\n",
    "# import modules or scripts ONCE. Subsequent imports don't do anything, and\n",
    "# in particular won't reflect any changes I've made to my scripts. To make\n",
    "# sure that I'm working with the \"latest version of my code, I use this bit\n",
    "# of magic, which forces the notebook to \"reload\" my script:\n",
    "import importlib\n",
    "importlib.reload(ae353_segbot)"
   ]
  },
  {
   "cell_type": "markdown",
   "id": "02b723c8",
   "metadata": {},
   "source": [
    "Create an instance of the `Simulator` class, which is an interface to the [pybullet](http://pybullet.org) simulation engine.\n",
    "\n",
    "There are several optional arguments:\n",
    "\n",
    "* `display` (`True` or `False`) is whether or not to show the simulation window;\n",
    "* `width` and `height` (positive integers, default `640` and `480`, respectively) is the weight and height of the simulation window (if shown) in pixels;\n",
    "* `bumpy` (`True` or `False`) is whether or not the station is \"bumpy\".\n",
    "\n",
    "**You must evaluate this cell only *once*.** If you want to start fresh with a new simulator, you must do `Kernel -> Restart` from the notebook menu first. If you evaluate this cell more than once without a call to `Kernel -> Restart` then you may get strange behavior that is hard to debug."
   ]
  },
  {
   "cell_type": "code",
   "execution_count": null,
   "id": "359ab3ab",
   "metadata": {},
   "outputs": [],
   "source": [
    "simulator = ae353_segbot.Simulator(\n",
    "    display=True,\n",
    "    width=480,\n",
    "    height=320,\n",
    "    bumpy=True,\n",
    ")"
   ]
  },
  {
   "cell_type": "markdown",
   "id": "f06b7127",
   "metadata": {},
   "source": [
    "### Define parameter values consistent with the URDF file:"
   ]
  },
  {
   "cell_type": "code",
   "execution_count": 13,
   "id": "d0c1cd7c",
   "metadata": {},
   "outputs": [
    {
     "data": {
      "text/latex": [
       "$\\displaystyle \\left[\\begin{matrix}v \\sin{\\left(e_{h} \\right)}\\\\w\\\\- \\frac{1200 \\tau_{L} + 1200 \\tau_{R} + 1404 \\left(\\dot{\\theta}^{2} + w^{2}\\right) \\sin{\\left(\\theta \\right)} + \\frac{65 \\left(50 \\tau_{L} + 50 \\tau_{R} - 39 w^{2} \\sin{\\left(2 \\theta \\right)} - 900 \\sin{\\left(\\theta \\right)}\\right) \\cos{\\left(\\theta \\right)}}{2}}{5850 \\cos^{2}{\\left(\\theta \\right)} - 6084}\\\\\\frac{32 \\left(- 875 \\tau_{L} + 875 \\tau_{R} - 1443 \\dot{\\theta} w \\sin{\\left(2 \\theta \\right)} - 2925 v w \\sin{\\left(\\theta \\right)}\\right)}{13 \\left(3120 \\sin^{2}{\\left(\\theta \\right)} + 2051\\right)}\\\\\\phi\\\\\\frac{5 \\left(4225 \\tau_{L} + 4225 \\tau_{R} - \\frac{6591 w^{2} \\sin{\\left(2 \\theta \\right)}}{2} + 30 \\left(100 \\tau_{L} + 100 \\tau_{R} + 117 \\left(\\dot{\\theta}^{2} + w^{2}\\right) \\sin{\\left(\\theta \\right)}\\right) \\cos{\\left(\\theta \\right)} - 76050 \\sin{\\left(\\theta \\right)}\\right)}{702 \\left(25 \\cos^{2}{\\left(\\theta \\right)} - 26\\right)}\\end{matrix}\\right]$"
      ],
      "text/plain": [
       "Matrix([\n",
       "[                                                                                                                                                                           v*sin(e_h)],\n",
       "[                                                                                                                                                                                    w],\n",
       "[        -(1200*tau_L + 1200*tau_R + 1404*(thetadot**2 + w**2)*sin(theta) + 65*(50*tau_L + 50*tau_R - 39*w**2*sin(2*theta) - 900*sin(theta))*cos(theta)/2)/(5850*cos(theta)**2 - 6084)],\n",
       "[                                                                    32*(-875*tau_L + 875*tau_R - 1443*thetadot*w*sin(2*theta) - 2925*v*w*sin(theta))/(13*(3120*sin(theta)**2 + 2051))],\n",
       "[                                                                                                                                                                                  phi],\n",
       "[5*(4225*tau_L + 4225*tau_R - 6591*w**2*sin(2*theta)/2 + 30*(100*tau_L + 100*tau_R + 117*(thetadot**2 + w**2)*sin(theta))*cos(theta) - 76050*sin(theta))/(702*(25*cos(theta)**2 - 26))]])"
      ]
     },
     "execution_count": 13,
     "metadata": {},
     "output_type": "execute_result"
    }
   ],
   "source": [
    "### Define physical constants, consistent with the URDF file:\n",
    "# Dimensions of chassis\n",
    "dx = 0.4\n",
    "dy = 0.6\n",
    "dz = 0.8\n",
    "\n",
    "# Distance between axle and COM of chassis\n",
    "h = 0.3\n",
    "\n",
    "# Half-distance between wheels\n",
    "a = 0.7 / 2\n",
    "\n",
    "# Mass of chassis\n",
    "mb = 12.\n",
    "\n",
    "# MOI of chassis\n",
    "Jbx = (mb / 12) * (dy**2 + dz**2)\n",
    "Jby = (mb / 12) * (dx**2 + dz**2)\n",
    "Jbz = (mb / 12) * (dx**2 + dy**2)\n",
    "\n",
    "# Radius of each wheel\n",
    "r = 0.325\n",
    "\n",
    "# Width of each wheel\n",
    "hw = 0.075\n",
    "\n",
    "# Mass of each wheel\n",
    "mw = 1.2\n",
    "\n",
    "# MOI of each wheel\n",
    "Jw = (mw / 2) * r**2\n",
    "Jwt = (mw / 12) * (3 * r**2 + hw**2)\n",
    "\n",
    "# Total mass\n",
    "m = mb + 2 * mw\n",
    "\n",
    "# Total MOI\n",
    "Jx = Jbx + 2 * Jwt\n",
    "Jy = Jby\n",
    "Jz = Jbz + 2 * Jwt\n",
    "\n",
    "# Station parameters\n",
    "station_velocity = -0.5 # <-- FIXME (change the velocity to change gravity)\n",
    "station_radius = 20.    # <-- radius in meters of inside surface of station\n",
    "\n",
    "# Acceleration of artifical gravity\n",
    "g = station_velocity**2 * station_radius\n",
    "\n",
    "### Convert all physical constants to rational numbers:\n",
    "# Dimensions\n",
    "h = sym.nsimplify(h)\n",
    "a = sym.nsimplify(a)\n",
    "r = sym.nsimplify(r)\n",
    "\n",
    "# Masses\n",
    "mb = sym.nsimplify(mb)\n",
    "mw = sym.nsimplify(mw)\n",
    "m = sym.nsimplify(m)\n",
    "\n",
    "# MOIs\n",
    "Jx = sym.nsimplify(Jx)\n",
    "Jy = sym.nsimplify(Jy)\n",
    "Jz = sym.nsimplify(Jz)\n",
    "Jw = sym.nsimplify(Jw)\n",
    "Jwt = sym.nsimplify(Jwt)\n",
    "\n",
    "# Gravity\n",
    "g = sym.nsimplify(g)\n",
    "\n",
    "### Define variables\n",
    "(e_l,\n",
    " e_h,\n",
    " v,\n",
    " w,\n",
    " theta,\n",
    " thetadot,\n",
    " phi,\n",
    " phidot,\n",
    " tau_R,\n",
    " tau_L) = sym.symbols('e_l, e_h, v, w, theta, thetadot, phi, phidot, tau_R, tau_L', real=True)\n",
    "\n",
    "### Compute equations of motion, excluding lateral and heading errors (see Tuttle, 2014):\n",
    "M = sym.Matrix([[m + 2 * Jw / r**2, 0, mb * h * sym.cos(theta)],\n",
    "                [0, (Jx + mb * h**2) * sym.sin(theta)**2 + Jz * sym.cos(theta)**2 + (2 * Jw * a**2 / r**2) + 2 * mw * a**2, 0],\n",
    "                [mb * h * sym.cos(theta), 0, Jy * mb * h**2]])\n",
    "N = sym.Matrix([[mb * h * (w**2 + thetadot**2) * sym.sin(theta)],\n",
    "                [-2 * (Jx - Jz + m * h**2) * sym.cos(theta) * sym.sin(theta) * w * thetadot - mb * h * sym.sin(theta) * v * w],\n",
    "                [(Jx - Jz + mb * h**2) * sym.cos(theta) * sym.sin(theta) * w**2 + mb * g * h * sym.sin(theta)]])\n",
    "R = sym.Matrix([[1 / r, 1 / r],\n",
    "                [-a / r, a / r],\n",
    "                [-1, -1]])\n",
    "f = sym.simplify(M.inv() * (N + R * sym.Matrix([[tau_L], [tau_R]])))\n",
    "\n",
    "### Compute full equations of motion (define right side of ODEs):\n",
    "f = sym.Matrix([[v * sym.sin(e_h)],\n",
    "                [w],\n",
    "                [f]])\n",
    "### note: should this be phi or theta?? ###\n",
    "f = f.row_insert(4, sym.Matrix([[phi]]))\n",
    "f"
   ]
  },
  {
   "cell_type": "code",
   "execution_count": 14,
   "id": "19eeaaa6",
   "metadata": {},
   "outputs": [
    {
     "data": {
      "text/plain": [
       "array([[0.0],\n",
       "       [0],\n",
       "       [12.0726495726496*tau_L + 12.0726495726496*tau_R],\n",
       "       [-1.05014439485429*tau_L + 1.05014439485429*tau_R],\n",
       "       [0],\n",
       "       [-51.460113960114*tau_L - 51.460113960114*tau_R]], dtype=object)"
      ]
     },
     "execution_count": 14,
     "metadata": {},
     "output_type": "execute_result"
    }
   ],
   "source": [
    "f_num = sym.lambdify([e_l, e_h, v, w, theta, phi, phidot], f)\n",
    "f_num(0, 0, 0, 0, 0, 0, 0)"
   ]
  },
  {
   "cell_type": "markdown",
   "id": "c6b3a3c0",
   "metadata": {},
   "source": [
    "### Define a function to return a state-space model for a given choice of equilibrium point."
   ]
  },
  {
   "cell_type": "code",
   "execution_count": null,
   "id": "dd822116",
   "metadata": {},
   "outputs": [],
   "source": [
    "def get_model(e_l_e,\n",
    "              e_h_e,\n",
    "              v_e,\n",
    "              w_e,\n",
    "              theta_e,\n",
    "              phi_e,\n",
    "              phidot_e,\n",
    "              tau_R_e,\n",
    "              tau_L_e):\n",
    "    ### Define physical constants, consistent with the URDF file:\n",
    "    # Dimensions of chassis\n",
    "    dx = 0.4\n",
    "    dy = 0.6\n",
    "    dz = 0.8\n",
    "\n",
    "    # Distance between axle and COM of chassis\n",
    "    h = 0.3\n",
    "\n",
    "    # Half-distance between wheels\n",
    "    a = 0.7 / 2\n",
    "\n",
    "    # Mass of chassis\n",
    "    mb = 12.\n",
    "\n",
    "    # MOI of chassis\n",
    "    Jbx = (mb / 12) * (dy**2 + dz**2)\n",
    "    Jby = (mb / 12) * (dx**2 + dz**2)\n",
    "    Jbz = (mb / 12) * (dx**2 + dy**2)\n",
    "\n",
    "    # Radius of each wheel\n",
    "    r = 0.325\n",
    "\n",
    "    # Width of each wheel\n",
    "    hw = 0.075\n",
    "\n",
    "    # Mass of each wheel\n",
    "    mw = 1.2\n",
    "\n",
    "    # MOI of each wheel\n",
    "    Jw = (mw / 2) * r**2\n",
    "    Jwt = (mw / 12) * (3 * r**2 + hw**2)\n",
    "\n",
    "    # Total mass\n",
    "    m = mb + 2 * mw\n",
    "\n",
    "    # Total MOI\n",
    "    Jx = Jbx + 2 * Jwt\n",
    "    Jy = Jby\n",
    "    Jz = Jbz + 2 * Jwt\n",
    "\n",
    "    # Station parameters\n",
    "    station_velocity = -0.5 # <-- FIXME (change the velocity to change gravity)\n",
    "    station_radius = 20.    # <-- radius in meters of inside surface of station\n",
    "\n",
    "    # Acceleration of artifical gravity\n",
    "    g = station_velocity**2 * station_radius\n",
    "\n",
    "    ### Convert all physical constants to rational numbers:\n",
    "    # Dimensions\n",
    "    h = sym.nsimplify(h)\n",
    "    a = sym.nsimplify(a)\n",
    "    r = sym.nsimplify(r)\n",
    "\n",
    "    # Masses\n",
    "    mb = sym.nsimplify(mb)\n",
    "    mw = sym.nsimplify(mw)\n",
    "    m = sym.nsimplify(m)\n",
    "\n",
    "    # MOIs\n",
    "    Jx = sym.nsimplify(Jx)\n",
    "    Jy = sym.nsimplify(Jy)\n",
    "    Jz = sym.nsimplify(Jz)\n",
    "    Jw = sym.nsimplify(Jw)\n",
    "    Jwt = sym.nsimplify(Jwt)\n",
    "\n",
    "    # Gravity\n",
    "    g = sym.nsimplify(g)\n",
    "\n",
    "    ### Define variables\n",
    "    (e_l,\n",
    "     e_h,\n",
    "     v,\n",
    "     w,\n",
    "     theta,\n",
    "     phi,\n",
    "     phidot,\n",
    "     tau_R,\n",
    "     tau_L) = sym.symbols('e_l, e_h, v, w, theta, phi, phidot, tau_R, tau_L', real=True)\n",
    "\n",
    "    ### Compute equations of motion, excluding lateral and heading errors (see Tuttle, 2014):\n",
    "    M = sym.Matrix([[m + 2 * Jw / r**2, 0, mb * h * sym.cos(theta)],\n",
    "                    [0, (Jx + mb * h**2) * sym.sin(theta)**2 + Jz * sym.cos(theta)**2 + (2 * Jw * a**2 / r**2) + 2 * mw * a**2, 0],\n",
    "                    [mb * h * sym.cos(theta), 0, Jy * mb * h**2]])\n",
    "    N = sym.Matrix([[mb * h * (w**2 + phi**2) * sym.sin(theta)],\n",
    "                    [-2 * (Jx - Jz + m * h**2) * sym.cos(theta) * sym.sin(theta) * w * phi - mb * h * sym.sin(theta) * v * w],\n",
    "                    [(Jx - Jz + mb * h**2) * sym.cos(theta) * sym.sin(theta) * w**2 + mb * g * h * sym.sin(theta)]])\n",
    "    R = sym.Matrix([[1 / r, 1 / r],\n",
    "                    [-a / r, a / r],\n",
    "                    [-1, -1]])\n",
    "    f = sym.simplify(M.inv() * (N + R * sym.Matrix([[tau_L], [tau_R]])))\n",
    "\n",
    "    ### Compute full equations of motion (define right-hand side of ODEs):\n",
    "    f = sym.Matrix([[v * sym.sin(e_h)],\n",
    "                    [w],\n",
    "                    [f]])\n",
    "    f = f.row_insert(4, sym.Matrix([[phi]]))\n",
    "    \n",
    "    # Convert floating-point to rational numbers\n",
    "    f = sym.nsimplify(f, rational=True)\n",
    "    \n",
    "### continue ###\n",
    "\n",
    "    # Verify equilibrium point\n",
    "    f_num = sym.lambdify([e_l, e_h, v, w, theta, phi, phidot, tau_R, tau_L], f)\n",
    "    if not np.allclose(f_num(e_l_e, e_h_e, v_e, w_e, theta_e, phi_e, phidot_e, tau_R_e, tau_L_e), 0.):\n",
    "        raise Exception('equilibrium point is invalid')\n",
    "    \n",
    "    # Find A and B in symbolic form\n",
    "    A_sym = f.jacobian([q1, v1, q2, v2])\n",
    "    B_sym = f.jacobian([tau])\n",
    "    \n",
    "    # Create lambda functions to allow numerical evaluation of A and B\n",
    "    A_num = sym.lambdify([q1, v1, q2, v2, tau], A_sym)\n",
    "    B_num = sym.lambdify([q1, v1, q2, v2, tau], B_sym)\n",
    "    \n",
    "    # Find A and B in numeric form (making sure the result is floating-point)\n",
    "    A = A_num(q1e, q2e, v1e, v2e, taue).astype(float)\n",
    "    B = B_num(q1e, q2e, v1e, v2e, taue).astype(float)\n",
    "    \n",
    "    # Return A and B\n",
    "    return A, B"
   ]
  },
  {
   "cell_type": "markdown",
   "id": "75738c69",
   "metadata": {},
   "source": [
    "Define a controller that maps sensor measurements to actuator commands. By default, it chooses to apply zero torque to the gimbal. Modify the `run` function to make the controller behave differently."
   ]
  },
  {
   "cell_type": "code",
   "execution_count": null,
   "id": "e8164ad0",
   "metadata": {},
   "outputs": [],
   "source": [
    "class Controller:\n",
    "    def __init__(self):\n",
    "        pass\n",
    "    \n",
    "    def reset(self):\n",
    "        pass\n",
    "    \n",
    "    def run(\n",
    "            self,\n",
    "            t,\n",
    "            lateral_error,\n",
    "            heading_error,\n",
    "            forward_speed,\n",
    "            turning_rate,\n",
    "            pitch_angle,\n",
    "            pitch_rate,\n",
    "        ):\n",
    "        \n",
    "        # FIXME: replace the following lines\n",
    "        right_wheel_torque = 0.\n",
    "        left_wheel_torque = 0.\n",
    "        \n",
    "        return right_wheel_torque, left_wheel_torque"
   ]
  },
  {
   "cell_type": "markdown",
   "id": "bc096551",
   "metadata": {},
   "source": [
    "Create an instance of the controller."
   ]
  },
  {
   "cell_type": "code",
   "execution_count": null,
   "id": "93300860",
   "metadata": {},
   "outputs": [],
   "source": [
    "controller = Controller()"
   ]
  },
  {
   "cell_type": "markdown",
   "id": "bcf56b66",
   "metadata": {},
   "source": [
    "Reset the simulator with given initial conditions. You may also change the angular velocity of the station if you like, but - beware! - doing so will change the amount of artificial gravity."
   ]
  },
  {
   "cell_type": "code",
   "execution_count": null,
   "id": "cf8a455d",
   "metadata": {},
   "outputs": [],
   "source": [
    "simulator.reset(\n",
    "    initial_speed=1.,\n",
    "    initial_lateral_error=0.,\n",
    "    initial_heading_error=0.,\n",
    "    initial_pitch=0.,\n",
    "    station_velocity=-0.5,\n",
    ")"
   ]
  },
  {
   "cell_type": "markdown",
   "id": "74613036",
   "metadata": {},
   "source": [
    "Reset the controller."
   ]
  },
  {
   "cell_type": "code",
   "execution_count": null,
   "id": "9a0fa5ff",
   "metadata": {},
   "outputs": [],
   "source": [
    "controller.reset()"
   ]
  },
  {
   "cell_type": "markdown",
   "id": "5f7ffb3f",
   "metadata": {},
   "source": [
    "Choose a camera view from the following options:\n",
    "* `camera_sideview()`\n",
    "* `camera_backview()`\n",
    "* `camera_wideview()`"
   ]
  },
  {
   "cell_type": "code",
   "execution_count": null,
   "id": "060c00d1",
   "metadata": {},
   "outputs": [],
   "source": [
    "simulator.camera_backview()"
   ]
  },
  {
   "cell_type": "markdown",
   "id": "c326b31f",
   "metadata": {},
   "source": [
    "Run the simulator."
   ]
  },
  {
   "cell_type": "code",
   "execution_count": null,
   "id": "63f745f5",
   "metadata": {},
   "outputs": [],
   "source": [
    "data = simulator.run(\n",
    "    controller,           # <-- required (an instance of your Controller class)\n",
    "    max_time=5.0,         # <-- optional (how long you want to run the simulation in seconds)\n",
    "    data_filename=None,   # <-- optional (save data to this file, e.g., 'my_data.json')\n",
    "    video_filename=None,  # <-- optional (save video to this file, e.g., 'my_video.mov')\n",
    ")"
   ]
  },
  {
   "cell_type": "markdown",
   "id": "601a7926",
   "metadata": {},
   "source": [
    "Get, show, and save a snapshot of the simulation after the last time step."
   ]
  },
  {
   "cell_type": "code",
   "execution_count": null,
   "id": "0cff3241",
   "metadata": {},
   "outputs": [],
   "source": [
    "# Get snapshot as height x width x 4 numpy array of RGBA values\n",
    "rgba = simulator.snapshot()\n",
    "\n",
    "# Display snapshot\n",
    "plt.figure(figsize=(8, 8))\n",
    "plt.imshow(rgba)\n",
    "\n",
    "# Save snapshot\n",
    "plt.imsave('my_snapshot.png', rgba)"
   ]
  },
  {
   "cell_type": "markdown",
   "id": "58c95e55",
   "metadata": {},
   "source": [
    "Plot the results."
   ]
  },
  {
   "cell_type": "code",
   "execution_count": null,
   "id": "0ff24bb2",
   "metadata": {},
   "outputs": [],
   "source": [
    "# Create a figure with three subplots, all of which share the same x-axis\n",
    "fig, (ax_pos, ax_vel, ax_pitch, ax_torque) = plt.subplots(4, 1, figsize=(8, 8), sharex=True)\n",
    "\n",
    "# Plot lateral and heading error\n",
    "ax_pos.plot(\n",
    "    data['t'], data['lateral_error'],\n",
    "    label='lateral_error (m)', linewidth=4,\n",
    ")\n",
    "ax_pos.plot(\n",
    "    data['t'], data['heading_error'],\n",
    "    '--', label='heading_error (rad)', linewidth=4,\n",
    ")\n",
    "ax_pos.grid()\n",
    "ax_pos.legend(fontsize=16)\n",
    "ax_pos.tick_params(labelsize=14)\n",
    "\n",
    "# Plot forward speed and turning rate\n",
    "ax_vel.plot(\n",
    "    data['t'], data['forward_speed'],\n",
    "    label='forward speed (m/s)', linewidth=4,\n",
    ")\n",
    "ax_vel.plot(\n",
    "    data['t'], data['turning_rate'],\n",
    "    '--', label='turning rate (rad / s)', linewidth=4,\n",
    ")\n",
    "ax_vel.grid()\n",
    "ax_vel.legend(fontsize=16)\n",
    "ax_vel.tick_params(labelsize=14)\n",
    "\n",
    "# Plot pitch angle and pitch rate\n",
    "ax_pitch.plot(\n",
    "    data['t'], data['pitch_angle'],\n",
    "    label='pitch angle (rad)', linewidth=4,\n",
    ")\n",
    "ax_pitch.plot(\n",
    "    data['t'], data['pitch_rate'],\n",
    "    '--', label='pitch rate (rad)', linewidth=4,\n",
    ")\n",
    "ax_pitch.grid()\n",
    "ax_pitch.legend(fontsize=16)\n",
    "ax_pitch.tick_params(labelsize=14)\n",
    "\n",
    "# Plot torques\n",
    "ax_torque.plot(\n",
    "    data['t'], data['right_wheel_torque_command'],\n",
    "    label='right wheel torque command (N-m)', linewidth=4,\n",
    ")\n",
    "ax_torque.plot(\n",
    "    data['t'], data['right_wheel_torque'],\n",
    "    '--', label='right wheel torque (N-m)', linewidth=4,\n",
    ")\n",
    "ax_torque.plot(\n",
    "    data['t'], data['left_wheel_torque_command'],\n",
    "    label='left wheel torque command (N-m)', linewidth=4,\n",
    ")\n",
    "ax_torque.plot(\n",
    "    data['t'], data['left_wheel_torque'],\n",
    "    '--', label='left wheel torque (N-m)', linewidth=4,\n",
    ")\n",
    "ax_torque.plot(\n",
    "    data['t'], -np.ones_like(data['t']) * simulator.tau_max,\n",
    "    ':', linewidth=4, color='C4', zorder=0,\n",
    ")\n",
    "ax_torque.plot(\n",
    "    data['t'], np.ones_like(data['t']) * simulator.tau_max,\n",
    "    ':', linewidth=4, color='C4', zorder=0,\n",
    ")\n",
    "ax_torque.grid()\n",
    "ax_torque.legend(fontsize=16)\n",
    "ax_torque.tick_params(labelsize=14)\n",
    "ax_torque.set_ylim(-1.2 * simulator.tau_max, 1.2 * simulator.tau_max)\n",
    "\n",
    "# Set x-axis properties (only need to do this on the last\n",
    "# subplot since all subplots share the same x-axis)\n",
    "ax_torque.set_xlabel('time (s)', fontsize=20)\n",
    "ax_torque.set_xlim([data['t'][0], data['t'][-1]])\n",
    "\n",
    "# Make the arrangement of subplots look nice\n",
    "fig.tight_layout()"
   ]
  },
  {
   "cell_type": "markdown",
   "id": "407559d4",
   "metadata": {},
   "source": [
    "Save the figure (without transparent background)."
   ]
  },
  {
   "cell_type": "code",
   "execution_count": null,
   "id": "5d3c1b22",
   "metadata": {},
   "outputs": [],
   "source": [
    "fig.savefig('my_figure.png', facecolor='white', transparent=False)"
   ]
  }
 ],
 "metadata": {
  "kernelspec": {
   "display_name": "Python 3 (ipykernel)",
   "language": "python",
   "name": "python3"
  },
  "language_info": {
   "codemirror_mode": {
    "name": "ipython",
    "version": 3
   },
   "file_extension": ".py",
   "mimetype": "text/x-python",
   "name": "python",
   "nbconvert_exporter": "python",
   "pygments_lexer": "ipython3",
   "version": "3.10.2"
  }
 },
 "nbformat": 4,
 "nbformat_minor": 5
}
